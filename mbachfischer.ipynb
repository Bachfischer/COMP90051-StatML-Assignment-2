{
 "cells": [
  {
   "cell_type": "markdown",
   "metadata": {},
   "source": [
    "# COMP90051 Project 2"
   ]
  },
  {
   "cell_type": "code",
   "execution_count": 188,
   "metadata": {},
   "outputs": [],
   "source": [
    "# Do not edit. These are the only imports permitted.\n",
    "import numpy as np\n",
    "from abc import ABC, abstractmethod\n",
    "from sklearn.tree import DecisionTreeClassifier   # for Task 4\n",
    "from sklearn.base import clone                    # optional for Task 4\n",
    "import matplotlib.pyplot as plt                   # for Task 5\n",
    "from sklearn.metrics.pairwise import rbf_kernel   # for Task 6"
   ]
  },
  {
   "cell_type": "code",
   "execution_count": 189,
   "metadata": {},
   "outputs": [],
   "source": [
    "class MAB(ABC):\n",
    "    \"\"\"Base class for a contextual multi-armed bandit (MAB)\n",
    "    \n",
    "    Parameters\n",
    "    ----------\n",
    "    n_arms : int\n",
    "        Number of arms.\n",
    "    \"\"\"\n",
    "    def __init__(self, n_arms):\n",
    "        if not np.issubdtype(type(n_arms), np.integer):\n",
    "            raise TypeError(\"`n_arms` must be an integer\")\n",
    "        if not n_arms >= 0:\n",
    "            raise ValueError(\"`n_arms` must be non-negative\")\n",
    "        self.n_arms = n_arms\n",
    "        # your code here (if you like)\n",
    "        \n",
    "    @abstractmethod\n",
    "    def play(self, context):\n",
    "        \"\"\"Play a round\n",
    "        \n",
    "        Parameters\n",
    "        ----------        \n",
    "        context : float numpy.ndarray, shape (n_arms, n_dims), optional\n",
    "            An array of context vectors presented to the MAB. The 0-th \n",
    "            axis indexes the arms, and the 1-st axis indexes the features.\n",
    "            Non-contextual bandits accept a context of None.\n",
    "        \n",
    "        Returns\n",
    "        -------\n",
    "        arm : int\n",
    "            Integer index of the arm played this round. Should be in the set \n",
    "            {0, ..., n_arms - 1}.\n",
    "        \"\"\"\n",
    "        # your code here (if you like)\n",
    "    \n",
    "    @abstractmethod\n",
    "    def update(self, arm, reward, context):\n",
    "        \"\"\"Update the internal state of the MAB after a play\n",
    "        \n",
    "        Parameters\n",
    "        ----------\n",
    "        arm : int\n",
    "            Integer index of the played arm in the set {0, ..., n_arms - 1}.\n",
    "        \n",
    "        reward : float\n",
    "            Reward received from the arm.\n",
    "        \n",
    "        context : float numpy.ndarray, shape (n_arms, n_dims), optional\n",
    "            An array of context vectors that was presented to the MAB. The \n",
    "            0-th axis indexes the arms, and the 1-st axis indexes the \n",
    "            features. Non-contextual bandits accept a context of None. \n",
    "        \"\"\"\n",
    "        # your code here (if you like)"
   ]
  },
  {
   "cell_type": "code",
   "execution_count": 190,
   "metadata": {},
   "outputs": [],
   "source": [
    "# Define global functions here, if required\n"
   ]
  },
  {
   "cell_type": "markdown",
   "metadata": {},
   "source": [
    "## 1. Implement ε-greedy and UCB MABs"
   ]
  },
  {
   "cell_type": "code",
   "execution_count": 191,
   "metadata": {},
   "outputs": [],
   "source": [
    "class EpsGreedy(MAB):\n",
    "    \"\"\"Epsilon-Greedy multi-armed bandit\n",
    "\n",
    "    Parameters\n",
    "    ----------\n",
    "    n_arms : int\n",
    "        Number of arms\n",
    "\n",
    "    epsilon : float\n",
    "        Explore probability. Must be in the interval [0, 1].\n",
    "\n",
    "    Q0 : float, default=np.inf\n",
    "        Initial value for the arms.\n",
    "    \"\"\"\n",
    "    def __init__(self, n_arms, epsilon, Q0=np.inf):\n",
    "        super().__init__(n_arms)\n",
    "        # your code here\n",
    "        \n",
    "        self.epsilon = epsilon\n",
    "        \n",
    "        # initialize values\n",
    "        self.count_per_arm = [0 for arm in range(n_arms)]\n",
    "        \n",
    "        # Initialize all the arms with zero total reward\n",
    "        self.q_values = [Q0 for arm in range(n_arms)]\n",
    "        \n",
    "        # Initialize all the arms with zero total reward\n",
    "        self.total_reward_per_arm = [0 for arm in range(n_arms)] \n",
    "\n",
    "\n",
    "    \n",
    "    def play(self, context=None):\n",
    "        super().play(context)\n",
    "        # your code here\n",
    "        \n",
    "        # perform exploration\n",
    "        if np.random.random() < self.epsilon:\n",
    "            action = np.random.choice(self.q_values, 1)\n",
    "        # perform exploitation\n",
    "        else:\n",
    "            # Get highest q-value from current q-values\n",
    "            highest = max(self.q_values)\n",
    "            highest_Qs = [index for index, value in enumerate(self.q_values) if value == highest]\n",
    "            \n",
    "            if len(highest_Qs) > 1:\n",
    "                action = np.random.choice(highest_Qs) #random tie breaking\n",
    "            else:\n",
    "                action = highest_Qs[0]\n",
    "        return action\n",
    "        \n",
    "        \n",
    "    def update(self, arm, reward, context=None):\n",
    "        super().update(arm, reward, context)\n",
    "        # your code here\n",
    "                \n",
    "        # update the step of individual arms\n",
    "        self.count_per_arm[arm] += 1\n",
    "        \n",
    "        # update total reward\n",
    "        self.total_reward_per_arm[arm] += reward\n",
    "        \n",
    "        # update q-values each arm\n",
    "        updated_reward =  self.total_reward_per_arm[arm] / self.count_per_arm[arm]\n",
    "        self.q_values[arm] = updated_reward\n",
    "        \n",
    "        return"
   ]
  },
  {
   "cell_type": "code",
   "execution_count": 192,
   "metadata": {},
   "outputs": [],
   "source": [
    "class UCB(MAB):\n",
    "    \"\"\"Upper Confidence Bound (UCB) multi-armed bandit\n",
    "\n",
    "    Parameters\n",
    "    ----------\n",
    "    n_arms : int\n",
    "        Number of arms.\n",
    "\n",
    "    rho : float\n",
    "        Positive real explore-exploit parameter.\n",
    "\n",
    "    Q0 : float, default=np.inf\n",
    "        Initial value for the arms.\n",
    "    \"\"\"\n",
    "    def __init__(self, n_arms, rho, Q0=np.inf):\n",
    "        super().__init__(n_arms)\n",
    "        # your code here\n",
    "\n",
    "        # set rho\n",
    "        self.rho = rho\n",
    "        \n",
    "        # Step count for each arm\n",
    "        self.count_per_arm = [0 for arm in range(n_arms)]\n",
    "        self.total_rounds = 0\n",
    "        \n",
    "        # Mean reward for each arm\n",
    "        self.q_values = [Q0 for arm in range(n_arms)]\n",
    "        \n",
    "        # Initialize all arms with zero reward\n",
    "        self.total_reward_per_arm = [0 for arm in range(n_arms)] \n",
    "    \n",
    "    def play(self, context=None):\n",
    "        super().play(context)\n",
    "        # your code here\n",
    "        \n",
    "        #copy each arm with reward for later calculation at tround\n",
    "        previous_values = self.q_values\n",
    "        \n",
    "        for arm in range(self.n_arms):\n",
    "            if self.count_per_arm[arm] == 0: # Use intial values for the first round\n",
    "                continue\n",
    "                \n",
    "            else:\n",
    "                # Calculate q-value with exlpore boost for each arm\n",
    "                estimate_explore = self.rho * np.log(self.total_rounds) / self.count_per_arm[arm]\n",
    "                \n",
    "                previous_values[arm] = previous_values[arm] + np.sqrt(estimate_explore)\n",
    "            \n",
    "        # Get the highest value from current values\n",
    "        highest = max(previous_values)\n",
    "        # find all elements with highest values \n",
    "        highest_Qs = [index for index, value in enumerate(previous_values) if value == highest]\n",
    "        \n",
    "        if len(highest_Qs) > 1:\n",
    "            action = np.random.choice(highest_Qs) # perform random tie breaking\n",
    "        else:\n",
    "            action = highest_Qs[0]\n",
    "        \n",
    "        return action\n",
    "        \n",
    "    def update(self, arm, reward, context=None):\n",
    "        super().update(arm, reward, context)\n",
    "        # your code here\n",
    "\n",
    "        # update the step of individual arms\n",
    "        self.count_per_arm[arm] += 1\n",
    "        \n",
    "        self.total_rounds += 1\n",
    "        \n",
    "        # update total reward\n",
    "        self.total_reward_per_arm[arm] += reward\n",
    "        \n",
    "        # update q-values each arm\n",
    "        updated_reward =  self.total_reward_per_arm[arm] / self.count_per_arm[arm]\n",
    "        self.q_values[arm] = updated_reward\n",
    "        return"
   ]
  },
  {
   "cell_type": "markdown",
   "metadata": {},
   "source": [
    "## 2. Implement off-policy evaluation"
   ]
  },
  {
   "cell_type": "code",
   "execution_count": 193,
   "metadata": {},
   "outputs": [],
   "source": [
    "def offlineEvaluate(mab, arms, rewards, contexts, n_rounds=None):\n",
    "    \"\"\"Offline evaluation of a multi-armed bandit\n",
    "    \n",
    "    Parameters\n",
    "    ----------\n",
    "    mab : instance of MAB\n",
    "        MAB to evaluate.\n",
    "    \n",
    "    arms : integer numpy.ndarray, shape (n_events,) \n",
    "        Array containing the history of pulled arms, represented as integer \n",
    "        indices in the set {0, ..., mab.n_arms}\n",
    "    \n",
    "    rewards : float numpy.ndarray, shape (n_events,)\n",
    "        Array containing the history of rewards.\n",
    "    \n",
    "    contexts : float numpy.ndarray, shape (n_events, n_arms, n_dims)\n",
    "        Array containing the history of contexts presented to the arms. \n",
    "        The 0-th axis indexes the events in the history, the 1-st axis \n",
    "        indexes the arms and the 2-nd axis indexed the features.\n",
    "        \n",
    "    n_rounds : int, default=None\n",
    "        Number of matching events to evaluate the MAB on. If None, \n",
    "        continue evaluating until the historical events are exhausted.\n",
    "    \n",
    "    Returns\n",
    "    -------\n",
    "    out : float numpy.ndarray\n",
    "        Rewards for the matching events.\n",
    "    \"\"\"\n",
    "    assert(rewards.shape==(num_of_events,)),\"must be 1d array\"\n",
    "    assert(n_rounds > 0 or n_rounds is None),\"n_rounds must be positive integer or None (repeat until end)\"\n",
    "    h0 = [] # history list\n",
    "    R0 = [] # total payoff list\n",
    "        \n",
    "    count = 0\n",
    "    for event in range(num_of_events):\n",
    "        #If reached maximum number of rounds then stop (or repeat until last event)\n",
    "        if len(h0) == n_rounds:     \n",
    "            break\n",
    "            \n",
    "        #Play an arm\n",
    "        action = mab.play(contexts[event])\n",
    "        #print(action)\n",
    "        \n",
    "        #If the chosen arm is equal to the arm in the log\n",
    "        # we record the history, the payoff and update the arm\n",
    "        if action == arms[event]:\n",
    "            # increase count of valid events\n",
    "            count +=1\n",
    "            \n",
    "            h0.append(event)\n",
    "            R0.append(rewards[event])\n",
    "            mab.update(arms[event],rewards[event],contexts[event])\n",
    "    \n",
    "    return R0"
   ]
  },
  {
   "cell_type": "code",
   "execution_count": 194,
   "metadata": {},
   "outputs": [],
   "source": [
    "# load dataset here\n",
    "\n",
    "#Initial three lists which respects\n",
    "# to arm, reward, and context(feature_list in this case).\n",
    "arm_list = []\n",
    "reward_list = []\n",
    "features_list = []\n",
    "num_of_events = 0\n",
    "\n",
    "#Read each line and split by spaces. Record arm, reward and context into the lists\n",
    "with open(\"dataset.txt\",\"r\") as f:\n",
    "    dataset = f.readlines()\n",
    "    \n",
    "for line in dataset:\n",
    "    num_of_events += 1\n",
    "    current_line = line.split()\n",
    "    \n",
    "    # get arm from dataset\n",
    "    arm = int(current_line[0])\n",
    "    \n",
    "    # get reward from dataset\n",
    "    reward = float(current_line[1])\n",
    "    \n",
    "    # get features from dataset\n",
    "    features = current_line[2:]\n",
    "    features = [float(element) for element in features]\n",
    "    \n",
    "    arm_list.append(arm)\n",
    "    reward_list.append(reward)\n",
    "    features_list.append(features)\n",
    "    \n",
    "#Convert lists into np_array\n",
    "arms = np.array(arm_list)\n",
    "rewards = np.array(reward_list)\n",
    "\n",
    "#For each event, the context is 10*10 dim \n",
    "# because there are 10 arms, and each one of them has 10 features \n",
    "contexts = np.array(features_list).reshape(num_of_events,(10*10))"
   ]
  },
  {
   "cell_type": "code",
   "execution_count": 195,
   "metadata": {},
   "outputs": [
    {
     "name": "stdout",
     "output_type": "stream",
     "text": [
      "EpsGreedy average reward 0.14375\n"
     ]
    }
   ],
   "source": [
    "mab = EpsGreedy(10, 0.05)\n",
    "results_EpsGreedy = offlineEvaluate(mab, arms, rewards, contexts, 800)\n",
    "print('EpsGreedy average reward', np.mean(results_EpsGreedy))"
   ]
  },
  {
   "cell_type": "code",
   "execution_count": 196,
   "metadata": {},
   "outputs": [
    {
     "name": "stdout",
     "output_type": "stream",
     "text": [
      "UCB average reward 0.115\n"
     ]
    }
   ],
   "source": [
    "mab = UCB(10, 1.0)\n",
    "results_UCB = offlineEvaluate(mab, arms, rewards, contexts, 800)\n",
    "print('UCB average reward', np.mean(results_UCB))"
   ]
  },
  {
   "cell_type": "markdown",
   "metadata": {},
   "source": [
    "## 3. Implement LinUCB contextual MAB"
   ]
  },
  {
   "cell_type": "code",
   "execution_count": 197,
   "metadata": {},
   "outputs": [],
   "source": [
    "class LinUCB(MAB):\n",
    "    \"\"\"Contextual multi-armed bandit (LinUCB)\n",
    "\n",
    "    Parameters\n",
    "    ----------\n",
    "    n_arms : int\n",
    "        Number of arms.\n",
    "\n",
    "    n_dims : int\n",
    "        Number of features for each arm's context.\n",
    "\n",
    "    alpha : float\n",
    "        Positive real explore-exploit parameter.\n",
    "    \"\"\"\n",
    "    def __init__(self, n_arms, n_dims, alpha):\n",
    "        super().__init__(n_arms)\n",
    "        # your code here\n",
    "        assert (n_arms > 0),\"n_arms must be positive\"\n",
    "        assert (n_dims > 0),\"n_dims must be positive\"\n",
    "        assert ((type(alpha)==float or type(alpha) == np.float64) and alpha >0.0 and np.isreal(alpha)), \"alpha must be real positive floating point number\"\n",
    "        self.n_dims = n_dims\n",
    "        self.alpha = alpha\n",
    "        \n",
    "        self.A_a = [np.identity(n_dims) for arm in range(n_arms)]\n",
    "        self.b_a = [np.zeros(n_dims) for arm in range(n_arms)]\n",
    "\n",
    "        \n",
    "        #self.A_a = [] #A is the list of each arm with D.T * D + I \n",
    "        #self.b_a = [] #b is the reward list\n",
    "\n",
    "    def play(self, context):\n",
    "        super().play(context)\n",
    "        # your code here        \n",
    "        assert (context.shape == (self.n_arms*self.n_dims,)),\"context must be a numeric array of length self.n_dims * self.n_arms\"\n",
    "        arm_with_Q = [float('inf') for arm in range(self.n_arms)] #At tround, initial arm with empty posterior distribution\n",
    "        \n",
    "        context = context.reshape(self.n_arms, self.n_dims)\n",
    "        \n",
    "        for arm in range(0,self.n_arms):\n",
    "            #For each arm, calculate posterior distribution based on theta and std\n",
    "            Theta_a = np.dot(np.linalg.inv(self.A_a[arm]), self.b_a[arm])\n",
    "            std = np.sqrt(np.linalg.multi_dot([np.transpose(context[arm]), np.linalg.inv(self.A_a[arm]), context[arm]]))\n",
    "            p_ta = np.dot(Theta_a.T,context[arm]) + self.alpha * std\n",
    "            \n",
    "            if not np.isnan(p_ta):#make sure the result of calculation is valid number\n",
    "                arm_with_Q[arm] = p_ta\n",
    "            \n",
    "        #Getting the highest value from posterior distribution, then find the corresponding key and append them\n",
    "        highest = max(arm_with_Q)\n",
    "        \n",
    "        highest_Qs = [index for index, value in enumerate(arm_with_Q) if value == highest]\n",
    "\n",
    "        if len(highest_Qs)>1:\n",
    "            action = np.random.choice(highest_Qs) # tie breaker\n",
    "        else:\n",
    "            action = highest_Qs[0]\n",
    "        \n",
    "        return action\n",
    "        \n",
    "    \n",
    "    def update(self, arm, reward, context):\n",
    "        super().update(arm, reward, context)\n",
    "        # your code here\n",
    "        assert (arm >= 0 and arm <=self.n_arms),\"arm must be positive integers and no larger than self.n_arms\"\n",
    "        assert (type(reward)==float or type(reward) == np.float64),\"reward must be floating point\"\n",
    "        assert (context.shape == (self.n_arms*self.n_dims,)),\"context must be a numeric array of length self.n_dims * self.n_arms\"\n",
    "        \n",
    "        context = context.reshape(self.n_arms,self.n_dims)\n",
    "        \n",
    "        \n",
    "        if arm <= self.n_arms:\n",
    "            #Reshap the vector to matrix, or the calculation will be incorrect because the transpose will not take effects\n",
    "            context_Matrix = context[arm].reshape(-1,1)\n",
    "            context_times_contextT = np.dot(context_Matrix,context_Matrix.T)\n",
    "            \n",
    "            self.A_a[arm] = np.add(self.A_a[arm], context_times_contextT)\n",
    "            \n",
    "            self.b_a[arm] = np.add(self.b_a[arm], np.dot(reward,context[arm]))"
   ]
  },
  {
   "cell_type": "code",
   "execution_count": 198,
   "metadata": {},
   "outputs": [
    {
     "name": "stdout",
     "output_type": "stream",
     "text": [
      "LinUCB average reward 0.53\n"
     ]
    }
   ],
   "source": [
    "mab = LinUCB(10, 10, 1.0)\n",
    "results_LinUCB = offlineEvaluate(mab, arms, rewards, contexts, 800)\n",
    "print('LinUCB average reward', np.mean(results_LinUCB))"
   ]
  },
  {
   "cell_type": "markdown",
   "metadata": {},
   "source": [
    "## 4. Implement TreeBootstrap contextual MAB"
   ]
  },
  {
   "cell_type": "code",
   "execution_count": 199,
   "metadata": {},
   "outputs": [],
   "source": [
    "class TreeBootstrap(MAB):\n",
    "    \"\"\"Contextual Thompson sampled multi-armed bandit (TreeBootstrap)\n",
    "\n",
    "    Parameters\n",
    "    ----------\n",
    "    n_arms : int\n",
    "        Number of arms.\n",
    "\n",
    "    n_dims : int\n",
    "        Number of features for each arm's context.\n",
    "\n",
    "    tree : instance of sklearn.tree.DecisionTreeClassifier, optional\n",
    "        Decision tree to use for predicting the expected future reward. \n",
    "        Defaults to sklearn.tree.DecisionTreeClassifier().\n",
    "    \"\"\"\n",
    "    def __init__(self, n_arms, n_dims, tree=DecisionTreeClassifier()):\n",
    "        super().__init__(n_arms)\n",
    "        # your code here\n",
    "        assert (n_arms > 0),\"n_arms must be positive integers\"\n",
    "        assert (n_dims > 0),\"n_dims must be positive integers\"\n",
    "        \n",
    "    def play(self, context):\n",
    "        super().play(context)\n",
    "        # your code here\n",
    "    \n",
    "    def update(self, arm, reward, context):\n",
    "        super().update(arm, reward, context)\n",
    "        # your code here"
   ]
  },
  {
   "cell_type": "code",
   "execution_count": 200,
   "metadata": {},
   "outputs": [
    {
     "name": "stdout",
     "output_type": "stream",
     "text": [
      "TreeBootstrap average reward nan\n"
     ]
    },
    {
     "name": "stderr",
     "output_type": "stream",
     "text": [
      "/Users/bachfischer/opt/anaconda3/envs/stat-ml/lib/python3.8/site-packages/numpy/core/fromnumeric.py:3334: RuntimeWarning: Mean of empty slice.\n",
      "  return _methods._mean(a, axis=axis, dtype=dtype,\n",
      "/Users/bachfischer/opt/anaconda3/envs/stat-ml/lib/python3.8/site-packages/numpy/core/_methods.py:161: RuntimeWarning: invalid value encountered in double_scalars\n",
      "  ret = ret.dtype.type(ret / rcount)\n"
     ]
    }
   ],
   "source": [
    "mab = TreeBootstrap(10, 10)\n",
    "results_TreeBootstrap = offlineEvaluate(mab, arms, rewards, contexts, 800)\n",
    "print('TreeBootstrap average reward', np.mean(results_TreeBootstrap))"
   ]
  },
  {
   "cell_type": "markdown",
   "metadata": {},
   "source": [
    "## 5. Evaluation and hyperparameter tuning for LinUCB\n",
    "### 5.A."
   ]
  },
  {
   "cell_type": "code",
   "execution_count": 205,
   "metadata": {},
   "outputs": [
    {
     "data": {
      "image/png": "[encoded data removed]",
      "text/plain": [
       "<Figure size 432x288 with 1 Axes>"
      ]
     },
     "metadata": {
      "needs_background": "light"
     },
     "output_type": "display_data"
    }
   ],
   "source": [
    "# TODO: Add code for TreeBootstrap\n",
    "\n",
    "# TODO: Remove code from below\n",
    "mab = EpsGreedy(10, 0.05)\n",
    "results_EpsGreedy = offlineEvaluate(mab, arms, rewards, contexts, 800)\n",
    "mab = UCB(10, 1.0)\n",
    "results_UCB = offlineEvaluate(mab, arms, rewards, contexts, 800)\n",
    "mab = LinUCB(10, 10, 1.0)\n",
    "results_LinUCB = offlineEvaluate(mab, arms, rewards, contexts, 800)\n",
    "\n",
    "\n",
    "# your code here\n",
    "EpsGreedy_reward = []\n",
    "UCB_reward = []\n",
    "linUCB_reward = []\n",
    "total_round = []\n",
    "count = 0\n",
    "\n",
    "for round in range(0,800):\n",
    "    count +=1\n",
    "    if round == 0: #calculate initial reward \n",
    "        EpsGreedy_reward.append(results_EpsGreedy[round]/count)\n",
    "        UCB_reward.append(results_UCB[round]/count)\n",
    "        linUCB_reward.append(results_LinUCB[round]/count)\n",
    "    else:  # calculate cumulated reward\n",
    "        results_EpsGreedy[round] += results_EpsGreedy[round-1] \n",
    "        EpsGreedy_reward.append(results_EpsGreedy[round]/count)\n",
    "        \n",
    "        results_UCB[round]+= results_UCB[round-1]\n",
    "        UCB_reward.append(results_UCB[round]/count)\n",
    "        \n",
    "        results_LinUCB[round]+= results_LinUCB[round-1]\n",
    "        linUCB_reward.append(results_LinUCB[round]/count)\n",
    "        \n",
    "plt.plot(np.linspace(1,800,800),EpsGreedy_reward, label = \"eGreedy\")\n",
    "plt.plot(np.linspace(1,800,800),UCB_reward, label = \"UCB\")\n",
    "plt.plot(np.linspace(1,800,800),linUCB_reward, label = \"LinUCB\")\n",
    "plt.ylabel('Per-Round Cumulative Reward')\n",
    "plt.xlabel('Rounds')\n",
    "plt.legend()\n",
    "plt.show()"
   ]
  },
  {
   "cell_type": "markdown",
   "metadata": {},
   "source": [
    "### 5.B."
   ]
  },
  {
   "cell_type": "code",
   "execution_count": null,
   "metadata": {},
   "outputs": [],
   "source": [
    "# your code here"
   ]
  },
  {
   "cell_type": "markdown",
   "metadata": {},
   "source": [
    "## 6. Implement KernelUCB contextual MAB"
   ]
  },
  {
   "cell_type": "code",
   "execution_count": null,
   "metadata": {},
   "outputs": [],
   "source": [
    "class KernelUCB(MAB):\n",
    "    \"\"\"Kernelised contextual multi-armed bandit (Kernelised LinUCB)\n",
    "    \n",
    "    Parameters\n",
    "    ----------\n",
    "    n_arms : int\n",
    "        Number of arms.\n",
    "\n",
    "    n_dims : int\n",
    "        Number of features for each arm's context.\n",
    "\n",
    "    gamma : float\n",
    "        Positive real explore-exploit parameter.\n",
    "    \n",
    "    eta : float\n",
    "        Positive real explore-exploit parameter.\n",
    "    \n",
    "    kern : callable\n",
    "        A kernel function from sklearn.metrics.pairwise.\n",
    "    \"\"\"\n",
    "    def __init__(self, n_arms, n_dims, gamma, eta, kern):\n",
    "        super().__init__(n_arms)\n",
    "        # your code here\n",
    "        \n",
    "    def play(self, context):\n",
    "        super().play(context)\n",
    "        # your code here\n",
    "    \n",
    "    def update(self, arm, reward, context):\n",
    "        super().update(arm, reward, context)\n",
    "        # your code here"
   ]
  },
  {
   "cell_type": "code",
   "execution_count": null,
   "metadata": {},
   "outputs": [],
   "source": [
    "mab = KernelUCB(10, 10, 1.0, 0.1, rbf_kernel)\n",
    "results_KernelUCB = offlineEvaluate(mab, arms, rewards, contexts, 800)\n",
    "print('KernelUCB average reward', np.mean(results_KernelUCB))"
   ]
  },
  {
   "cell_type": "code",
   "execution_count": null,
   "metadata": {},
   "outputs": [],
   "source": [
    "# your plotting code here"
   ]
  }
 ],
 "metadata": {
  "kernelspec": {
   "display_name": "Python 3",
   "language": "python",
   "name": "python3"
  },
  "language_info": {
   "codemirror_mode": {
    "name": "ipython",
    "version": 3
   },
   "file_extension": ".py",
   "mimetype": "text/x-python",
   "name": "python",
   "nbconvert_exporter": "python",
   "pygments_lexer": "ipython3",
   "version": "3.8.3"
  }
 },
 "nbformat": 4,
 "nbformat_minor": 4
}
